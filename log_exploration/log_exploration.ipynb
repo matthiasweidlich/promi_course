{
  "nbformat": 4,
  "nbformat_minor": 0,
  "metadata": {
    "colab": {
      "name": "log_exploration_solution.ipynb",
      "provenance": [],
      "collapsed_sections": [],
      "toc_visible": true,
      "include_colab_link": true
    },
    "kernelspec": {
      "display_name": "Python 3",
      "language": "python",
      "name": "python3"
    }
  },
  "cells": [
    {
      "cell_type": "markdown",
      "metadata": {
        "id": "view-in-github",
        "colab_type": "text"
      },
      "source": [
        "<a href=\"https://colab.research.google.com/github/matthiasweidlich/promi_course/blob/master/log_exploration/log_exploration.ipynb\" target=\"_parent\"><img src=\"https://colab.research.google.com/assets/colab-badge.svg\" alt=\"Open In Colab\"/></a>"
      ]
    },
    {
      "cell_type": "markdown",
      "metadata": {
        "id": "Gq10WSkQmsLI"
      },
      "source": [
        "# Hands-On Exercise 1: Event Log Exploration\n",
        "\n",
        "In this exercise, you will get first insights into the structure of a real-life event log. We are going to use a log which was part of the Business Process Intelligence Challenge 2012 (BPI Challenge 2012). \n",
        "\n",
        "**A few details about the scenario of the event log**\n",
        "\n",
        "The log originates from a Dutch Financial Institute. It contains some 262.200 events in 13.087 cases. Apart from some anonymization, the log contains all data as it came from the financial institute. The process represented in the event log is an application process for a personal loan or overdraft within a global financing organization. The amount requested by the customer is indicated in the case attribute AMOUNT_REQ, which is global, i.e. every case contains this attribute. The event log is a merger of three intertwined sub processes. The first letter of each task name identifies from which sub process (source) it originated from.\n",
        "\n",
        "In the process, an application is submitted through a webpage. Then, some automatic checks are performed, after which the application is complemented with additional information. This information is obtained trough contacting the customer by phone. If an applicant is eligible, an offer is sent to the client by mail. After this offer is received back, it is assessed. When it is incomplete, missing information is added by again contacting the customer. Then a final assessment is done, after which the application is approved and activated.\n",
        "\n",
        "**Event type explanation**\n",
        "\n",
        "| Event Type | Meaning |\n",
        "| --- | --- | \n",
        "| States starting with ‘A_’ | States of the application |\n",
        "| States starting with ‘O_’ |\tStates of the offer belonging to the application |\n",
        "| States starting with ‘W_’ |\tStates of the work item belonging to the application |\n",
        "COMPLETE |\tThe task (of type ‘A_’ or ‘O_’) is completed |\n",
        "SCHEDULE |\tThe work item (of type ‘W_’) is created in the queue (automatic step following manual actions)|\n",
        "START \t| The work item (of type ‘W_’) is obtained by the resource|\n",
        "COMPLETE |\tThe work item (of type ‘W_’) is released by the resource and put back in the queue or transferred to another queue (SCHEDULE)|\n",
        "\n",
        "**Event translation**\n",
        "\n",
        "| Dutch state name | \tEnglish translation |\n",
        "| --- | --- | \n",
        "|W_Afhandelen leads |\tW_Fixing incoming lead|\n",
        "|W_Completeren aanvraag  |\tW_Filling in information for the application|\n",
        "|W_Valideren aanvraag |\tW_Assessing the application|\n",
        "|W_Nabellen offertes \t| W_Calling after sent offers|\n",
        "|W_Nabellen incomplete dossiers |\tW_Calling to add missing information to the application|\n",
        "\n",
        "\n",
        "\n",
        "You should be able to clone the repository containing the notebooks and the example data with the code in the next cell. If this does not work, however, you can also download the event log (XES format, please unzip) [here](http://www.win.tue.nl/bpi/doku.php?id=2012:challenge) and then either copy it to your google drive, mount it, and read it from there, or directly upload it using your browser."
      ]
    },
    {
      "cell_type": "code",
      "metadata": {
        "id": "u8VFb3HAmsLJ"
      },
      "source": [
        "# basic configuration\n",
        "%config InlineBackend.figure_format = 'svg'\n",
        "%matplotlib inline\n",
        "\n",
        "# import data from google drive\n",
        "#from google.colab import drive\n",
        "#drive.mount('/content/drive')\n",
        "\n",
        "# direct data upload\n",
        "#from google.colab import files\n",
        "#files.upload()\n",
        "\n",
        "# fetch the data file\n",
        "! wget -O financial_log.xes https://github.com/matthiasweidlich/promi_course/blob/master/log_exploration/financial_log.xes?raw=true\n",
        "\n",
        "# install some library with basic code for process mining tasks\n",
        "! pip install pmlab_lite"
      ],
      "execution_count": null,
      "outputs": []
    },
    {
      "cell_type": "markdown",
      "metadata": {
        "id": "YUOlqmwqmsLR"
      },
      "source": [
        "## Import Event Log\n",
        "We first use the PMLab library to load the event log."
      ]
    },
    {
      "cell_type": "code",
      "metadata": {
        "id": "vZBfZvmemsLZ"
      },
      "source": [
        "from pmlab_lite.helper.io import xes\n",
        "\n",
        "log_file = 'financial_log.xes'\n",
        "log = xes.import_xes(log_file)"
      ],
      "execution_count": null,
      "outputs": []
    },
    {
      "cell_type": "markdown",
      "metadata": {
        "id": "FYM88B70msLf"
      },
      "source": [
        "Let's check how many traces are in the log and inspect the first three of them."
      ]
    },
    {
      "cell_type": "code",
      "metadata": {
        "id": "prKfYAcFmsLg"
      },
      "source": [
        "print('Load log with %s traces.' %len(log.get_traces()))\n",
        "log.print_traces(0,3)"
      ],
      "execution_count": null,
      "outputs": []
    },
    {
      "cell_type": "markdown",
      "metadata": {
        "id": "VXq59CL2msLr"
      },
      "source": [
        "## Section 1: Traces\n",
        "Each log contains at least one trace. Each trace again consists of events. In the first section, you will inspect several trace properties, like trace length, trace variants and more."
      ]
    },
    {
      "cell_type": "markdown",
      "metadata": {
        "id": "SL8iU6kjmsLu"
      },
      "source": [
        "### Trace length\n",
        "The number of events in a trace defines its length. The code snippet below computes the length of the shortest and the longest trace in the log."
      ]
    },
    {
      "cell_type": "code",
      "metadata": {
        "id": "y3fwP-DdmsLw"
      },
      "source": [
        "max_length = 0\n",
        "min_length = 1000\n",
        "\n",
        "for trace in log.get_traces():\n",
        "    if len(trace) > max_length:\n",
        "        max_length = len(trace)\n",
        "        \n",
        "    if len(trace) < min_length:\n",
        "        min_length = len(trace)\n",
        "\n",
        "print('The longest trace contains %s events. The shortest trace: %s events.' %(max_length, min_length))"
      ],
      "execution_count": null,
      "outputs": []
    },
    {
      "cell_type": "markdown",
      "metadata": {
        "id": "DYcXs-VnmsL9"
      },
      "source": [
        "**Task**: Compute the length of all traces in the log. Use a histogram to visualize your findings."
      ]
    },
    {
      "cell_type": "code",
      "metadata": {
        "id": "5MLfILJpmsMA"
      },
      "source": [
        "import matplotlib.pyplot as plt\n",
        "\n",
        "trace_length = []\n",
        "\n",
        "##################\n",
        "# Your code\n",
        "##################\n",
        "    \n",
        "plt.hist(trace_length, bins=range(min_length, max_length, 5))\n",
        "plt.xlabel('events per trace')\n",
        "plt.ylabel('number of traces')\n",
        "plt.show()"
      ],
      "execution_count": null,
      "outputs": []
    },
    {
      "cell_type": "markdown",
      "metadata": {
        "id": "afREBeR1msMH"
      },
      "source": [
        "### Trace variants\n",
        "A trace can be seen as a sequence of events. Since the same sequence of event classes may occur multiple times in the same log, it might be interesting to know how many different traces exist. Such different traces are called trace variants. The code snippet below computes all trace variants in the log:"
      ]
    },
    {
      "cell_type": "code",
      "metadata": {
        "id": "yKNEq1x1msMK"
      },
      "source": [
        "trace_list = []\n",
        "\n",
        "for trace in log.get_traces():\n",
        "    events = []\n",
        "    for event in trace:\n",
        "        events.append(event['concept:name'])\n",
        "        \n",
        "    trace_list.append(tuple(events))\n",
        "\n",
        "trace_variants = set(trace_list)\n",
        "\n",
        "print('The log contains %s trace variants.' %len(trace_variants))"
      ],
      "execution_count": null,
      "outputs": []
    },
    {
      "cell_type": "markdown",
      "metadata": {
        "id": "mxLOyd1emsMT"
      },
      "source": [
        "### Trace variant frequency\n",
        "\n",
        "**Task**: Compute the frequency of each trace variant in the log."
      ]
    },
    {
      "cell_type": "code",
      "metadata": {
        "id": "XNYPVMt6msMU"
      },
      "source": [
        "from collections import Counter\n",
        "counter = [1]\n",
        "\n",
        "##################\n",
        "# Your code\n",
        "##################\n",
        "\n",
        "plt.hist(counter, bins=range(min(counter), max(counter)+100, 50))\n",
        "plt.xlabel('traces of variant')\n",
        "plt.ylabel('frequency')\n",
        "plt.yscale('log')\n",
        "plt.show()"
      ],
      "execution_count": null,
      "outputs": []
    },
    {
      "cell_type": "markdown",
      "metadata": {
        "id": "fCkQxRCmmsMc"
      },
      "source": [
        "**Task**: Which variant is the most frequent one?"
      ]
    },
    {
      "cell_type": "code",
      "metadata": {
        "id": "xO8mt93emsMd"
      },
      "source": [
        "##################\n",
        "# Your code\n",
        "##################"
      ],
      "execution_count": null,
      "outputs": []
    },
    {
      "cell_type": "markdown",
      "metadata": {
        "id": "oZnqCay_msMf"
      },
      "source": [
        "### Trace duration\n",
        "Events may have several attributes like a timestamp or a resource. We can use these timestamps to compute the duration of a single trace. The following code returns the shortest and longest duration of all traces in the log."
      ]
    },
    {
      "cell_type": "code",
      "metadata": {
        "id": "2NkVjseOmsMh"
      },
      "source": [
        "from datetime import datetime, timedelta\n",
        "\n",
        "\n",
        "max_duration = timedelta(microseconds=1)\n",
        "min_duration = timedelta(days=10000)\n",
        "\n",
        "for trace in log.get_traces():\n",
        "    \n",
        "    # we only need to consider the first and last event in the trace\n",
        "    first_e = trace[0]\n",
        "    last_e = trace[-1]\n",
        "    \n",
        "    t0 = first_e['time:timestamp']\n",
        "    t1 = last_e['time:timestamp']\n",
        "    duration = t1 - t0\n",
        "    \n",
        "    if duration > max_duration:\n",
        "        max_duration = duration\n",
        "    elif duration < min_duration:\n",
        "        min_duration = duration\n",
        "        \n",
        "print('The shortest process instance took %s; the longest %s' %(min_duration, max_duration))"
      ],
      "execution_count": null,
      "outputs": []
    },
    {
      "cell_type": "markdown",
      "metadata": {
        "id": "JQ5ag9XNmsMi"
      },
      "source": [
        "**Task:** Compute the duration of each trace in seconds in the log and visualize the result in a histogram. *Hint*: use the method `total_seconds()` to obtain the number of seconds from a duration object."
      ]
    },
    {
      "cell_type": "code",
      "metadata": {
        "id": "AA4XL9eimsMj"
      },
      "source": [
        "durations = [0]\n",
        "\n",
        "##################\n",
        "# Your code\n",
        "##################\n",
        "    \n",
        "plt.hist(durations, bins=range(0, round(max(durations)), 86400))\n",
        "ax = plt.gca()\n",
        "plt.xticks(rotation='vertical')\n",
        "plt.xlabel('duration in seconds')\n",
        "plt.ylabel('number of traces')\n",
        "plt.show()"
      ],
      "execution_count": null,
      "outputs": []
    },
    {
      "cell_type": "markdown",
      "metadata": {
        "id": "Cb1Aiob_msMm"
      },
      "source": [
        "### Trace start days\n",
        "We can use timestamps to get even more insights. For example, it might be interesting to know at which weekday the most process instances start. \n",
        "\n",
        "**Task:** Extract for all traces the day of the week at which the instance was started and visualize the results in a histogram. *Hint*: use `isoweekday()` to get the weekday of an datetime object."
      ]
    },
    {
      "cell_type": "code",
      "metadata": {
        "id": "d3Yfk7H3msMo"
      },
      "source": [
        "import numpy as np\n",
        "\n",
        "weekdays = []\n",
        "\n",
        "##################\n",
        "# Your code\n",
        "##################\n",
        "\n",
        "data = np.bincount(weekdays)[1:]\n",
        "x_ticks = range(0,len(data), 1)\n",
        "plt.bar(x_ticks, data)\n",
        "ax = plt.gca()\n",
        "ax.set_xticks(x_ticks)\n",
        "ax.set_xticklabels(['Mon', 'Tue', 'Wed', 'Thu', 'Fri', 'Sat', 'Sun'])\n",
        "plt.show()"
      ],
      "execution_count": null,
      "outputs": []
    },
    {
      "cell_type": "markdown",
      "metadata": {
        "id": "6Pvgj_01msMs"
      },
      "source": [
        "## Section 2: Events\n",
        "So far, you got some insights into the trace level of the event log. Now, we will have a closer look at the individual events."
      ]
    },
    {
      "cell_type": "markdown",
      "metadata": {
        "id": "Dc1uRRzEmsMt"
      },
      "source": [
        "### Events in the log\n",
        "Let's consider the total number of events in the log."
      ]
    },
    {
      "cell_type": "code",
      "metadata": {
        "id": "apzozwoFmsMu"
      },
      "source": [
        "from pprint import pprint\n",
        "\n",
        "events = [e for t in log.get_traces() for e in t]\n",
        "print('The log contains %s events.\\n' %len(events))\n",
        "print('Information that is stored for one event:')\n",
        "pprint(events[0])"
      ],
      "execution_count": null,
      "outputs": []
    },
    {
      "cell_type": "markdown",
      "metadata": {
        "id": "sGlY3jkQmsMw"
      },
      "source": [
        "### Event classes\n",
        "Events may refer to different lifecycle states of activity execution. For example, the execution of an activity *A* can be scheduled, started and finally be completed. Here, the lifecycle of executing activity *A* has three states. Each state transition in such a lifecycle of activity execution can be considered as a separate event class. For example, \"an activity of name A being started\" and \"an activity of name A being scheduled\" are then two separate event classes.\n",
        "\n",
        "**Task**: Get the number of event classes based on information about the executed activity and the lifecycle transition and print out all identified event classes."
      ]
    },
    {
      "cell_type": "code",
      "metadata": {
        "id": "4AQg8TSNmsMw"
      },
      "source": [
        "event_classes = set()\n",
        "\n",
        "##################\n",
        "# Your code\n",
        "##################\n",
        "\n",
        "print('The log contains %s event classes.' %len(event_classes))\n",
        "pprint(event_classes)"
      ],
      "execution_count": null,
      "outputs": []
    },
    {
      "cell_type": "markdown",
      "metadata": {
        "id": "65iLStsqmsMz"
      },
      "source": [
        "### Event schedule\n",
        "We already computed how many process instances started at which day of the week. We can do the same for each event class. \n",
        "\n",
        "**Task:** Use the code snippet below as a starting point. *Hint:* use the methods `get_timestamp()` and `isoweekday()`."
      ]
    },
    {
      "cell_type": "code",
      "metadata": {
        "id": "rnqC2WnCmsM0"
      },
      "source": [
        "# setup subplots\n",
        "fig, ax = plt.subplots(12, 3, figsize=(12, 25))\n",
        "fig.subplots_adjust(hspace = 2, wspace=0.3)\n",
        "ax = ax.flatten()\n",
        "\n",
        "for idx, target_event in enumerate(list(event_classes)):\n",
        "    weekdays = []\n",
        "    \n",
        "    ##################\n",
        "    # Your code\n",
        "    ##################\n",
        "    \n",
        "    # plot\n",
        "    data = np.bincount(weekdays)[1:]\n",
        "    \n",
        "    x_ticks = range(0,len(data), 1)\n",
        "    ax[idx].bar(x_ticks, data)\n",
        "    ax[idx].set_xticks(x_ticks)\n",
        "    ax[idx].set_xticklabels(['Mon', 'Tue', 'Wed', 'Thu', 'Fri', 'Sat', 'Sun'], rotation=45)\n",
        "    ax[idx].set_title(target_event[0] + ' ' + target_event[1])\n",
        "    \n",
        "plt.show()"
      ],
      "execution_count": null,
      "outputs": []
    },
    {
      "cell_type": "markdown",
      "metadata": {
        "id": "V-BjmIRvmsM2"
      },
      "source": [
        "### Event resource assignments\n",
        "Sometimes an event is processed by a resource. Possible resources are machines and employees. The used resource can be specified in the events attributes.\n",
        "\n",
        "**Task:** How many different resources are used across the process instances?"
      ]
    },
    {
      "cell_type": "code",
      "metadata": {
        "id": "WKus593wmsM3"
      },
      "source": [
        "resources = []\n",
        "\n",
        "##################\n",
        "# Your code\n",
        "##################\n",
        "\n",
        "print('All process instances use %s different resource in total' % len(set(resources)))"
      ],
      "execution_count": null,
      "outputs": []
    },
    {
      "cell_type": "markdown",
      "metadata": {
        "id": "amrpizXOmsM_"
      },
      "source": [
        "**Task**: Are all events processed by a resource? If not, compute the ratio of events that are processed by a resource."
      ]
    },
    {
      "cell_type": "code",
      "metadata": {
        "id": "6gFQq31TmsNA"
      },
      "source": [
        "no_res = 0\n",
        "\n",
        "##################\n",
        "# Your code\n",
        "##################\n",
        "\n",
        "perc_res = 0 if len(resources) == 0 else ((len(resources)-no_res)/len(resources))*100\n",
        "print('%.2f%% of all events are processed by a resource.' % perc_res)"
      ],
      "execution_count": null,
      "outputs": []
    },
    {
      "cell_type": "markdown",
      "metadata": {
        "id": "R13lAbHOp94v"
      },
      "source": [
        "## -- End"
      ]
    }
  ]
}