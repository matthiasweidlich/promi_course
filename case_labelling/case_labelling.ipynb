{
  "nbformat": 4,
  "nbformat_minor": 0,
  "metadata": {
    "kernelspec": {
      "name": "python3",
      "display_name": "Python 3"
    },
    "colab": {
      "name": "case_labelling.ipynb",
      "provenance": [],
      "include_colab_link": true
    }
  },
  "cells": [
    {
      "cell_type": "markdown",
      "metadata": {
        "id": "view-in-github",
        "colab_type": "text"
      },
      "source": [
        "<a href=\"https://colab.research.google.com/github/matthiasweidlich/promi_course/blob/master/case_labelling/case_labelling.ipynb\" target=\"_parent\"><img src=\"https://colab.research.google.com/assets/colab-badge.svg\" alt=\"Open In Colab\"/></a>"
      ]
    },
    {
      "cell_type": "markdown",
      "metadata": {
        "id": "Jh0DPXW4wlnK"
      },
      "source": [
        "# Simple notebook to run the individual steps of the EM-based approach to case labelling"
      ]
    },
    {
      "cell_type": "markdown",
      "metadata": {
        "id": "NSu6fQmgwlnX"
      },
      "source": [
        "## Initialisation\n",
        "\n",
        "First, helper functions to add dedicated symbols for the start and end of a trace. Also, given an input sequence, a function prints the traces based on a given sequence of case identifiers. The latter is useful for understanding the  partitioning of the input sequence based on the current state of the EM-based approach to case labelling."
      ]
    },
    {
      "cell_type": "code",
      "metadata": {
        "id": "4GsAH1DCwlni"
      },
      "source": [
        "CONST_START = \"<\"\n",
        "CONST_END = \">\"\n",
        "\n",
        "def add_start_end(seq: list) -> list:\n",
        "    \"\"\" Add dedicated symbols for start and end to the sequence \"\"\"\n",
        "    return [CONST_START] + seq + [CONST_END]\n",
        "\n",
        "def print_cases(input_sequence: list, case_sequence: list):\n",
        "    \"\"\" Extracts the actual traces from the input sequence, based on the given case sequence \"\"\"\n",
        "    cases = {}\n",
        "    for idx, val in enumerate(input_sequence):\n",
        "        if val == CONST_START or val == CONST_END:\n",
        "            continue\n",
        "        cases.setdefault(case_sequence[idx], []).append(val)\n",
        "    for case in cases.values():\n",
        "        print(case)"
      ],
      "execution_count": null,
      "outputs": []
    },
    {
      "cell_type": "markdown",
      "metadata": {
        "id": "L-ElyiTFya9P"
      },
      "source": [
        "Second, helper functions to initialise the transition matrix.\n"
      ]
    },
    {
      "cell_type": "code",
      "metadata": {
        "id": "peIjtpW5ygX7"
      },
      "source": [
        "def get_empty_matrix(symbols: set) -> dict:\n",
        "    # initialise matrix with 0 values for all pairs\n",
        "    return {s:{s:0 for s in symbols} for s in symbols}\n",
        "\n",
        "def init_matrix(input_sequence: list) -> dict:\n",
        "    \"\"\" Initialise transition matrix based on ratio of counts for directly-follows relation \"\"\"\n",
        "    symbols = set(input_sequence)\n",
        "    matrix = get_empty_matrix(symbols)\n",
        "\n",
        "    # count directly-follows relation entries\n",
        "    for idx, val in enumerate(input_sequence):\n",
        "        if idx == 0:\n",
        "            continue\n",
        "        first = input_sequence[idx-1]\n",
        "        second = input_sequence[idx]\n",
        "        matrix[first][second] += 1\n",
        "\n",
        "    # normalise counts of directly-follows relation entries\n",
        "    for first in symbols:\n",
        "        count = 0.0\n",
        "        for second in symbols:\n",
        "            count += matrix[first][second]\n",
        "        if count == 0.0:\n",
        "            continue\n",
        "        for second in symbols:\n",
        "            matrix[first][second] = matrix[first][second] / count\n",
        "\n",
        "    return matrix"
      ],
      "execution_count": null,
      "outputs": []
    },
    {
      "cell_type": "markdown",
      "metadata": {
        "id": "gVSxd52pzHhl"
      },
      "source": [
        "Let's define the specific example from the exercise sheet."
      ]
    },
    {
      "cell_type": "code",
      "metadata": {
        "id": "OYK8fvS6wln6"
      },
      "source": [
        "# define the input sequence for to which the case labels shall be assigned\n",
        "input_sequence = ['G','A','G','A','R','B','B','R','B','G','R','G','X','A','B','R']"
      ],
      "execution_count": null,
      "outputs": []
    },
    {
      "cell_type": "code",
      "metadata": {
        "id": "ajQCztUswloO"
      },
      "source": [
        "# pre-processing step: assign dedicated labels to the start and end of the input sequence\n",
        "input_sequence = add_start_end(input_sequence)"
      ],
      "execution_count": null,
      "outputs": []
    },
    {
      "cell_type": "markdown",
      "metadata": {
        "id": "FWuBoyxvzQL2"
      },
      "source": [
        "## Definition of the EM-approach\n",
        "\n",
        "The following code snippets defines the function for the expectation step. It also provides a skeleton for the maximisation step.\n",
        "\n",
        "**Task:** Complete the code snippet for the maximisation step."
      ]
    },
    {
      "cell_type": "code",
      "metadata": {
        "id": "UEYf4B_6zbJo"
      },
      "source": [
        "def expectation_step(input_sequence: list, matrix: dict) -> list:\n",
        "    \"\"\" Expectation step: estimate the case sequence based on the input sequence and the transition matrix \"\"\"\n",
        "    case_sequence = [-1]\n",
        "\n",
        "    next_case_id = 0\n",
        "    last_symbols_open_cases = {}\n",
        "\n",
        "    for idx, symbol in enumerate(input_sequence):\n",
        "        if symbol == CONST_START or symbol == CONST_END:\n",
        "            continue\n",
        "\n",
        "        max_prob = 0\n",
        "        max_prob_case_id = -1\n",
        "        for case_id, last_symbol in last_symbols_open_cases.items():\n",
        "            if matrix[last_symbol][symbol] > max_prob:\n",
        "                max_prob = matrix[last_symbol][symbol]\n",
        "                max_prob_case_id = case_id\n",
        "\n",
        "        if max_prob_case_id == -1 or matrix[CONST_START][symbol] == max({matrix[s][symbol] for s in matrix.keys()}):\n",
        "            case_sequence.append(next_case_id)\n",
        "            last_symbols_open_cases[next_case_id] = symbol\n",
        "            next_case_id += 1\n",
        "        else:\n",
        "            case_sequence.append(max_prob_case_id)\n",
        "            last_symbols_open_cases[max_prob_case_id] = symbol\n",
        "            if matrix[symbol][CONST_END] == max({matrix[symbol][s] for s in matrix.keys()}):\n",
        "                last_symbols_open_cases.pop(max_prob_case_id, None)\n",
        "\n",
        "    case_sequence.append(-1)\n",
        "\n",
        "    return case_sequence\n",
        "\n",
        "def maximisation_step(input_sequence: list, case_sequence: list) -> dict:\n",
        "    \"\"\" Maximisation step: estimate the transition matrix based on the input sequence and the case sequence \"\"\"\n",
        "\n",
        "    symbols = set(input_sequence)\n",
        "    matrix = get_empty_matrix(symbols)\n",
        "\n",
        "    ##########################\n",
        "    # Your code\n",
        "    ##########################\n",
        "\n",
        "    return matrix\n"
      ],
      "execution_count": null,
      "outputs": []
    },
    {
      "cell_type": "markdown",
      "metadata": {
        "id": "cj6XoC6jwloe"
      },
      "source": [
        "## Run the approach for the example\n",
        "\n",
        "Run the EM-approach to case labelling for the given input sequence."
      ]
    },
    {
      "cell_type": "code",
      "metadata": {
        "id": "139DwZMIwloi"
      },
      "source": [
        "# initialise the transition matrix based on the input sequence\n",
        "matrix = init_matrix(input_sequence)"
      ],
      "execution_count": null,
      "outputs": []
    },
    {
      "cell_type": "code",
      "metadata": {
        "id": "oiNF0dOzwlox"
      },
      "source": [
        "# print the initial transition matrix\n",
        "matrix"
      ],
      "execution_count": null,
      "outputs": []
    },
    {
      "cell_type": "code",
      "metadata": {
        "id": "Qt3hWCmgwlpF"
      },
      "source": [
        "# one iteration of the EM-approach\n",
        "case_sequence = expectation_step(input_sequence, matrix)\n",
        "matrix = maximisation_step(input_sequence, case_sequence)"
      ],
      "execution_count": null,
      "outputs": []
    },
    {
      "cell_type": "code",
      "metadata": {
        "id": "Z-x5HKViwlpT"
      },
      "source": [
        "# ..."
      ],
      "execution_count": null,
      "outputs": []
    },
    {
      "cell_type": "markdown",
      "metadata": {
        "id": "L-dqCRCyusIA"
      },
      "source": [
        "## -- End"
      ]
    }
  ]
}