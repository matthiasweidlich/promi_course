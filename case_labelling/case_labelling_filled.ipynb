{
  "nbformat": 4,
  "nbformat_minor": 0,
  "metadata": {
    "kernelspec": {
      "name": "python3",
      "display_name": "Python 3"
    },
    "colab": {
      "name": "case_labelling.ipynb",
      "provenance": [],
      "include_colab_link": true
    }
  },
  "cells": [
    {
      "cell_type": "markdown",
      "metadata": {
        "id": "view-in-github",
        "colab_type": "text"
      },
      "source": [
        "<a href=\"https://colab.research.google.com/github/matthiasweidlich/promi_course/blob/master/case_labelling/case_labelling_filled.ipynb\" target=\"_parent\"><img src=\"https://colab.research.google.com/assets/colab-badge.svg\" alt=\"Open In Colab\"/></a>"
      ]
    },
    {
      "cell_type": "markdown",
      "metadata": {
        "id": "Jh0DPXW4wlnK"
      },
      "source": [
        "# Simple notebook to run the individual steps of the EM-based approach to case labelling"
      ]
    },
    {
      "cell_type": "markdown",
      "metadata": {
        "id": "NSu6fQmgwlnX"
      },
      "source": [
        "## Initialisation\n",
        "\n",
        "First, helper functions to add dedicated symbols for the start and end of a trace. Also, given an input sequence, a function prints the traces based on a given sequence of case identifiers. The latter is useful for understanding the  partitioning of the input sequence based on the current state of the EM-based approach to case labelling. "
      ]
    },
    {
      "cell_type": "code",
      "metadata": {
        "id": "4GsAH1DCwlni"
      },
      "source": [
        "CONST_START = \"<\"\n",
        "CONST_END = \">\"\n",
        "\n",
        "def add_start_end(seq: list) -> list:\n",
        "    \"\"\" Add dedicated symbols for start and end to the sequence \"\"\"\n",
        "    return [CONST_START] + seq + [CONST_END]\n",
        "\n",
        "def print_cases(input_sequence: list, case_sequence: list):\n",
        "    \"\"\" Extracts the actual traces from the input sequence, based on the given case sequence \"\"\"\n",
        "    cases = {}\n",
        "    for idx, val in enumerate(input_sequence):\n",
        "        if val == CONST_START or val == CONST_END:\n",
        "            continue\n",
        "        cases.setdefault(case_sequence[idx], []).append(val)\n",
        "    for case in cases.values():\n",
        "        print(case)"
      ],
      "execution_count": 45,
      "outputs": []
    },
    {
      "cell_type": "markdown",
      "metadata": {
        "id": "L-ElyiTFya9P"
      },
      "source": [
        "Second, helper functions to initialise the transition matrix.\n"
      ]
    },
    {
      "cell_type": "code",
      "metadata": {
        "id": "peIjtpW5ygX7"
      },
      "source": [
        "def get_empty_matrix(symbols: set) -> dict:\n",
        "    # initialise matrix with 0 values for all pairs\n",
        "    return {s:{s:0 for s in symbols} for s in symbols}\n",
        "\n",
        "def init_matrix(input_sequence: list) -> dict:\n",
        "    \"\"\" Initialise transition matrix based on ratio of counts for directly-follows relation \"\"\"\n",
        "    symbols = set(input_sequence)\n",
        "    matrix = get_empty_matrix(symbols)\n",
        "\n",
        "    # count directly-follows relation entries\n",
        "    for idx, val in enumerate(input_sequence):\n",
        "        if idx == 0:\n",
        "            continue\n",
        "        first = input_sequence[idx-1]\n",
        "        second = input_sequence[idx]\n",
        "        matrix[first][second] += 1\n",
        "\n",
        "    # normalise counts of directly-follows relation entries\n",
        "    for first in symbols:\n",
        "        count = 0.0\n",
        "        for second in symbols:\n",
        "            count += matrix[first][second]\n",
        "        if count == 0.0:\n",
        "            continue\n",
        "        for second in symbols:\n",
        "            matrix[first][second] = matrix[first][second] / count\n",
        "\n",
        "    return matrix"
      ],
      "execution_count": 46,
      "outputs": []
    },
    {
      "cell_type": "markdown",
      "metadata": {
        "id": "gVSxd52pzHhl"
      },
      "source": [
        "Let's define the specific example from the exercise sheet. "
      ]
    },
    {
      "cell_type": "code",
      "metadata": {
        "id": "OYK8fvS6wln6"
      },
      "source": [
        "# define the input sequence for to which the case labels shall be assigned\n",
        "input_sequence = ['G','A','G','A','R','B','B','R','B','G','R','G','X','A','B','R']"
      ],
      "execution_count": 47,
      "outputs": []
    },
    {
      "cell_type": "code",
      "metadata": {
        "id": "ajQCztUswloO"
      },
      "source": [
        "# pre-processing step: assign dedicated labels to the start and end of the input sequence\n",
        "input_sequence = add_start_end(input_sequence)"
      ],
      "execution_count": 48,
      "outputs": []
    },
    {
      "cell_type": "markdown",
      "metadata": {
        "id": "FWuBoyxvzQL2"
      },
      "source": [
        "## Definition of the EM-approach\n",
        "\n",
        "The following code snippets defines the function for the expectation step. It also provides a skeleton for the maximisation step.\n",
        "\n",
        "**Task:** Complete the code snippet for the maximisation step."
      ]
    },
    {
      "cell_type": "code",
      "metadata": {
        "id": "UEYf4B_6zbJo"
      },
      "source": [
        "def expectation_step(input_sequence: list, matrix: dict) -> list:\n",
        "    \"\"\" Expectation step: estimate the case sequence based on the input sequence and the transition matrix \"\"\"\n",
        "    case_sequence = [-1]\n",
        "\n",
        "    next_case_id = 0\n",
        "    last_symbols_open_cases = {}\n",
        "\n",
        "    for idx, symbol in enumerate(input_sequence):\n",
        "        if symbol == CONST_START or symbol == CONST_END:\n",
        "            continue\n",
        "\n",
        "        max_prob = 0\n",
        "        max_prob_case_id = -1\n",
        "        for case_id, last_symbol in last_symbols_open_cases.items():\n",
        "            if matrix[last_symbol][symbol] > max_prob:\n",
        "                max_prob = matrix[last_symbol][symbol]\n",
        "                max_prob_case_id = case_id\n",
        "\n",
        "        if max_prob_case_id == -1 or matrix[CONST_START][symbol] == max({matrix[s][symbol] for s in matrix.keys()}):\n",
        "            case_sequence.append(next_case_id)\n",
        "            last_symbols_open_cases[next_case_id] = symbol\n",
        "            next_case_id += 1\n",
        "        else:\n",
        "            case_sequence.append(max_prob_case_id)\n",
        "            last_symbols_open_cases[max_prob_case_id] = symbol\n",
        "            if matrix[symbol][CONST_END] == max({matrix[symbol][s] for s in matrix.keys()}):\n",
        "                last_symbols_open_cases.pop(max_prob_case_id, None)\n",
        "\n",
        "    case_sequence.append(-1)\n",
        "\n",
        "    return case_sequence\n",
        "\n",
        "def maximisation_step(input_sequence: list, case_sequence: list) -> dict:\n",
        "    \"\"\" Maximisation step: estimate the transition matrix based on the input sequence and the case sequence \"\"\"\n",
        "\n",
        "    symbols = set(input_sequence)\n",
        "    matrix = get_empty_matrix(symbols)\n",
        "    \n",
        "    ##########################\n",
        "    open_cases = set()\n",
        "    follows_per_symbol = {}\n",
        "\n",
        "    for idx, val in enumerate(input_sequence):\n",
        "        if val == CONST_START or val == CONST_END:\n",
        "            continue\n",
        "        if case_sequence[idx] not in open_cases:\n",
        "            # a new case is opened, record its first symbol as one following the dedicated start symbol\n",
        "            matrix[CONST_START][val] += 1\n",
        "            follows_per_symbol[CONST_START] = follows_per_symbol.get(CONST_START, 0) + 1\n",
        "            open_cases.add(case_sequence[idx])\n",
        "\n",
        "        idx_2 = idx + 1\n",
        "\n",
        "        if idx_2 == len(input_sequence):\n",
        "            # the last symbol always closes the current case\n",
        "            matrix[val][CONST_END] += 1\n",
        "            follows_per_symbol[val] = follows_per_symbol.get(val, 0) + 1\n",
        "        else:\n",
        "            idx_2 = idx + 1\n",
        "            # determine the next symbol in the trace of the current symbol\n",
        "            while case_sequence[idx] != case_sequence[idx_2] and idx_2 < len(input_sequence)-1:\n",
        "                idx_2 += 1\n",
        "\n",
        "            if idx_2 == len(input_sequence):\n",
        "                # the last symbol of a case, closes it\n",
        "                matrix[val][CONST_END] += 1\n",
        "                follows_per_symbol[val] = follows_per_symbol.get(val, 0) + 1\n",
        "            else:\n",
        "                matrix[val][input_sequence[idx_2]] += 1\n",
        "                follows_per_symbol[val] = follows_per_symbol.get(val, 0) + 1\n",
        "\n",
        "    follows_per_symbol[CONST_END] = 1\n",
        "    for first in symbols:\n",
        "        for second in symbols:\n",
        "            matrix[first][second] = matrix[first][second] / (1.0 * follows_per_symbol[first])\n",
        "    ##########################\n",
        "\n",
        "    return matrix\n"
      ],
      "execution_count": 49,
      "outputs": []
    },
    {
      "cell_type": "markdown",
      "metadata": {
        "id": "cj6XoC6jwloe"
      },
      "source": [
        "## Run the approach for the example\n",
        "\n",
        "Run the EM-approach to case labelling for the given input sequence."
      ]
    },
    {
      "cell_type": "code",
      "metadata": {
        "id": "139DwZMIwloi"
      },
      "source": [
        "# initialise the transition matrix based on the input sequence\n",
        "matrix = init_matrix(input_sequence)"
      ],
      "execution_count": 50,
      "outputs": []
    },
    {
      "cell_type": "code",
      "metadata": {
        "id": "oiNF0dOzwlox",
        "outputId": "546de9db-adf1-4f35-ac04-fdb35c8d330b",
        "colab": {
          "base_uri": "https://localhost:8080/"
        }
      },
      "source": [
        "# print the initial transition matrix\n",
        "matrix"
      ],
      "execution_count": 51,
      "outputs": [
        {
          "output_type": "execute_result",
          "data": {
            "text/plain": [
              "{'<': {'<': 0.0, '>': 0.0, 'A': 0.0, 'B': 0.0, 'G': 1.0, 'R': 0.0, 'X': 0.0},\n",
              " '>': {'<': 0, '>': 0, 'A': 0, 'B': 0, 'G': 0, 'R': 0, 'X': 0},\n",
              " 'A': {'<': 0.0,\n",
              "  '>': 0.0,\n",
              "  'A': 0.0,\n",
              "  'B': 0.3333333333333333,\n",
              "  'G': 0.3333333333333333,\n",
              "  'R': 0.3333333333333333,\n",
              "  'X': 0.0},\n",
              " 'B': {'<': 0.0, '>': 0.0, 'A': 0.0, 'B': 0.25, 'G': 0.25, 'R': 0.5, 'X': 0.0},\n",
              " 'G': {'<': 0.0, '>': 0.0, 'A': 0.5, 'B': 0.0, 'G': 0.0, 'R': 0.25, 'X': 0.25},\n",
              " 'R': {'<': 0.0, '>': 0.25, 'A': 0.0, 'B': 0.5, 'G': 0.25, 'R': 0.0, 'X': 0.0},\n",
              " 'X': {'<': 0.0, '>': 0.0, 'A': 1.0, 'B': 0.0, 'G': 0.0, 'R': 0.0, 'X': 0.0}}"
            ]
          },
          "metadata": {},
          "execution_count": 51
        }
      ]
    },
    {
      "cell_type": "code",
      "metadata": {
        "id": "Qt3hWCmgwlpF",
        "outputId": "f8651462-dfe0-410b-b3a5-dceab2bdceff",
        "colab": {
          "base_uri": "https://localhost:8080/"
        }
      },
      "source": [
        "# one iteration of the EM-approach\n",
        "case_sequence = expectation_step(input_sequence, matrix)\n",
        "print_cases(input_sequence, case_sequence)\n",
        "matrix = maximisation_step(input_sequence, case_sequence)\n",
        "matrix"
      ],
      "execution_count": 52,
      "outputs": [
        {
          "output_type": "stream",
          "name": "stdout",
          "text": [
            "['G', 'A', 'R', 'B', 'R', 'B', 'R', 'B', 'R']\n",
            "['G', 'A', 'B']\n",
            "['G', 'X', 'A']\n",
            "['G']\n"
          ]
        },
        {
          "output_type": "execute_result",
          "data": {
            "text/plain": [
              "{'<': {'<': 0.0, '>': 0.0, 'A': 0.0, 'B': 0.0, 'G': 1.0, 'R': 0.0, 'X': 0.0},\n",
              " '>': {'<': 0.0, '>': 0.0, 'A': 0.0, 'B': 0.0, 'G': 0.0, 'R': 0.0, 'X': 0.0},\n",
              " 'A': {'<': 0.0,\n",
              "  '>': 0.3333333333333333,\n",
              "  'A': 0.0,\n",
              "  'B': 0.3333333333333333,\n",
              "  'G': 0.0,\n",
              "  'R': 0.3333333333333333,\n",
              "  'X': 0.0},\n",
              " 'B': {'<': 0.0, '>': 0.25, 'A': 0.0, 'B': 0.0, 'G': 0.0, 'R': 0.75, 'X': 0.0},\n",
              " 'G': {'<': 0.0, '>': 0.25, 'A': 0.5, 'B': 0.0, 'G': 0.0, 'R': 0.0, 'X': 0.25},\n",
              " 'R': {'<': 0.0, '>': 0.25, 'A': 0.0, 'B': 0.75, 'G': 0.0, 'R': 0.0, 'X': 0.0},\n",
              " 'X': {'<': 0.0, '>': 0.0, 'A': 1.0, 'B': 0.0, 'G': 0.0, 'R': 0.0, 'X': 0.0}}"
            ]
          },
          "metadata": {},
          "execution_count": 52
        }
      ]
    },
    {
      "cell_type": "code",
      "metadata": {
        "id": "Z-x5HKViwlpT",
        "outputId": "11b969b6-fcdc-4864-d742-b5b8a1e4f989",
        "colab": {
          "base_uri": "https://localhost:8080/"
        }
      },
      "source": [
        "# second iteration of the EM-approach\n",
        "case_sequence = expectation_step(input_sequence, matrix)\n",
        "print_cases(input_sequence, case_sequence)\n",
        "matrix = maximisation_step(input_sequence, case_sequence)\n",
        "matrix"
      ],
      "execution_count": 53,
      "outputs": [
        {
          "output_type": "stream",
          "name": "stdout",
          "text": [
            "['G', 'A']\n",
            "['G', 'A']\n",
            "['R', 'B', 'R', 'B', 'R', 'B', 'R']\n",
            "['B']\n",
            "['G', 'X', 'A']\n",
            "['G']\n"
          ]
        },
        {
          "output_type": "execute_result",
          "data": {
            "text/plain": [
              "{'<': {'<': 0.0,\n",
              "  '>': 0.0,\n",
              "  'A': 0.0,\n",
              "  'B': 0.16666666666666666,\n",
              "  'G': 0.6666666666666666,\n",
              "  'R': 0.16666666666666666,\n",
              "  'X': 0.0},\n",
              " '>': {'<': 0.0, '>': 0.0, 'A': 0.0, 'B': 0.0, 'G': 0.0, 'R': 0.0, 'X': 0.0},\n",
              " 'A': {'<': 0.0, '>': 1.0, 'A': 0.0, 'B': 0.0, 'G': 0.0, 'R': 0.0, 'X': 0.0},\n",
              " 'B': {'<': 0.0, '>': 0.25, 'A': 0.0, 'B': 0.0, 'G': 0.0, 'R': 0.75, 'X': 0.0},\n",
              " 'G': {'<': 0.0, '>': 0.25, 'A': 0.5, 'B': 0.0, 'G': 0.0, 'R': 0.0, 'X': 0.25},\n",
              " 'R': {'<': 0.0, '>': 0.25, 'A': 0.0, 'B': 0.75, 'G': 0.0, 'R': 0.0, 'X': 0.0},\n",
              " 'X': {'<': 0.0, '>': 0.0, 'A': 1.0, 'B': 0.0, 'G': 0.0, 'R': 0.0, 'X': 0.0}}"
            ]
          },
          "metadata": {},
          "execution_count": 53
        }
      ]
    },
    {
      "cell_type": "code",
      "metadata": {
        "id": "-c3c2mDmEF2g",
        "outputId": "dfe78955-7f3d-4e30-b382-b7f4ac374340",
        "colab": {
          "base_uri": "https://localhost:8080/"
        }
      },
      "source": [
        "# third iteration of the EM-approach\n",
        "case_sequence = expectation_step(input_sequence, matrix)\n",
        "print_cases(input_sequence, case_sequence)\n",
        "matrix = maximisation_step(input_sequence, case_sequence)\n",
        "matrix"
      ],
      "execution_count": 54,
      "outputs": [
        {
          "output_type": "stream",
          "name": "stdout",
          "text": [
            "['G', 'A']\n",
            "['G', 'A']\n",
            "['R', 'B', 'R', 'B', 'R', 'B', 'R']\n",
            "['B']\n",
            "['G', 'X', 'A']\n",
            "['G']\n"
          ]
        },
        {
          "output_type": "execute_result",
          "data": {
            "text/plain": [
              "{'<': {'<': 0.0,\n",
              "  '>': 0.0,\n",
              "  'A': 0.0,\n",
              "  'B': 0.16666666666666666,\n",
              "  'G': 0.6666666666666666,\n",
              "  'R': 0.16666666666666666,\n",
              "  'X': 0.0},\n",
              " '>': {'<': 0.0, '>': 0.0, 'A': 0.0, 'B': 0.0, 'G': 0.0, 'R': 0.0, 'X': 0.0},\n",
              " 'A': {'<': 0.0, '>': 1.0, 'A': 0.0, 'B': 0.0, 'G': 0.0, 'R': 0.0, 'X': 0.0},\n",
              " 'B': {'<': 0.0, '>': 0.25, 'A': 0.0, 'B': 0.0, 'G': 0.0, 'R': 0.75, 'X': 0.0},\n",
              " 'G': {'<': 0.0, '>': 0.25, 'A': 0.5, 'B': 0.0, 'G': 0.0, 'R': 0.0, 'X': 0.25},\n",
              " 'R': {'<': 0.0, '>': 0.25, 'A': 0.0, 'B': 0.75, 'G': 0.0, 'R': 0.0, 'X': 0.0},\n",
              " 'X': {'<': 0.0, '>': 0.0, 'A': 1.0, 'B': 0.0, 'G': 0.0, 'R': 0.0, 'X': 0.0}}"
            ]
          },
          "metadata": {},
          "execution_count": 54
        }
      ]
    },
    {
      "cell_type": "markdown",
      "metadata": {
        "id": "L-dqCRCyusIA"
      },
      "source": [
        "## -- End"
      ]
    }
  ]
}